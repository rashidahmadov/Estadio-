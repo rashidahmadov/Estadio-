Data type 
int  -5, 500
float -5.7, 7.9 
complex a+bi, 4+5ai 
string 'Baku' "Moscow" "78"
Sequence data types: list, tuple, range 

word = 'butterfly'
print(word[:4:1])
print(word[:-1:-4])
print(word[6:9:1])
print(word[1:6:1]) 
print(word[0:7:2]) 

#2.Create a variable name and assign your name to it. Print a greeting using the variable.
# name = 'Arthur'
# print(f'{name} welcome to home brother') 

# Max and Min elementlerin tapilmasi
# months = ['january', 'february', 'march', 'april']
# years = [2019, 2020, 2021, 2022] 
# a4 = max(months)
# a5 = min(years) 
# print(a4)
# print(a5) 

# siyahidan elementi silmek (del):
# s3 = [6, 12, -8, 'a', 'b']
# del s3[2] 
# print(s3)

# str-ni simvola gore liste cevrilmesi
# b2 = 'audience'
# s5 = b2.split('a') 
# print(s5) 

# listin sonuna element elave etmek
# s6 = [6, 12, 'a', 'b']
# s6.append(1) 
# print(s6)

# mueyyen elementin sayini tapmaq
# c1 = [2, 5, 25, 2, 'a', 'book', 52, 'aa', 1, 'v']
# c2 = c1.count('aa')
# print(c2) 


# listden elementi legv etmek:
# c1.remove(2)
# print(c1)

# listin her hansi hissesine element elave etmek:
# fruits = ['apple', 'peach', 'blackberry']
# fruits.insert(3, "banana") 
# print(fruits) 

# elementler artan sirada (alphabet sirasi ile) duzur
# q1 = [5, 1, -3, 100]
# q2 = ['pomegranate', 'apple', 'banana'] 
# q1.sort()
# q2.sort() 
# print(q2) 

# listin elementlerini tersine duzmek 
# q3 = [5, 1, 7, 8, 100]
# q3.reverse()
# print(q3)

# Sert operatoru: if-elif-else
# a,b = 8,10
# if a>b:
#     c = a-b
# else:
#     c = b-a
# print(c)    

# a = 5;  b = 5
# if a>b: 
#     c = a - b
# else:
#     if a < b:
#         c = a + b 
#     else:
#         c = a*b 
# print(c)  


# 100-balli sistemin 5-balliq sisteme cevrilmesi 
# bal=int(input('bali daxil et: ')) 
# if bal<30:
#     print('bes balliq qiymet = 2')
# elif bal<=60:
#     print('besballiq qiymet = 3')
# elif bal<=80:
#     print('besballiq qiymet = 4')
# else:
#     print('besballiq qiymet = 5') 


# bal=int(input('Balı daxil edin:'))
# if bal<0:
#     print('Bal 0-dan kiçik ola bilməz.')
# elif bal>100:
#     print('Bal 100-dən böyük ola bilməz.')
# elif bal<=30:
#  print('Beş ballıq qiymət = 2.')
# elif bal<=60:
#     print('Beş ballıq qiymət = 3.')
# elif bal<80:
#     print('Beş ballıq qiymət = 4.')
# else:
#     print('Beş ballıq qiymət = 5') 


# bulud = bool(input('hava buludludur: ')) 
# t = float(input('enter the temprature: '))
# if t<=4:
#     print('weather is so cold, wear your coat')
#     if bulud == True: 
#         print('it is going to snow') 
# elif t<= 15:
#     print('weather is cold, take your jacket')
# else:
#     print('weather is fine') 

# bulud = bool(input("hava buludludur: "))
# t = float(input("temperaturu daxil et: "))
# if t<=4:
#    print(" cox qalin geyin, hava cox soyuqdur")
#    if bulud == True:
#     print(" qar yaga biler ")
# elif t<=15:
#     print(" qalin geyin, hava soyuqdur")
#     if bulud == True:
#         print(" yagis yaga biler")
# else:
#     print(" hava yaxsidir") 

# bulud = bool(input("hava buludludur?"))
# t = int(input("temperatur nece derecedir?"))
# if t<=4 :
#     print("Hava soyuqdur")
#     if bulud==True :
#         print("yaginti ehtimali 89%")
# elif t <= 15:
#     print("hava yaxsidir")
#     if bulud==True :
#         print("yaginti ehtimali 65%")
# elif t<= 40:
#     print("hava istidir")
#     if bulud==True :
#         print("yaginti ehtimal 38%")
# else :
#     print("hava cox istidir") 

# x = int(input())
# y = int(input())
# if(x>0):
#     if(y>0):
#       print('1-ci oktant')
#     else:
#       print('2-ci oktant')
# else:
#     if(y>0):
#       print('2-ci oktant')
#     else:
#       print('3-cu oktant') 

# result = divmod(123,13)
# print(result)

# res= round(88/45)
# print(res)

# print(pow(15,5))

# print('jolly'.upper())

# e1 = int(input('birinci eded: '))
# e2 = int(input('ikinci eded: '))
# func = input('Emeliyyat: ')

# print(calc(e1,e2,func)) 

# a = 8
# if a > 2:
#     print(a*3)
#     if a<12:
#         print(a+1)
#         if a>8:
#             print(a-16)
#             if a ==8:
#                 print(a+20) 

# print(2 + 2.5) 

# print('hello' + 'world') 

# print('hello' * 3) 

# number1 = input('Birinci ededi daxil edin: ')
# number2 = input('Ikinci ededi daxil edin: ') 
# print(number1 + number2) 

# list 
# l=['alma', 14, 45.5, True] 
# print(l) 
# print(type(l))
# print(l[1]) 
# print(l[-1]) 
# print(l[-3])  
# print(l[-3:-2])  

# l[1]=False 
# print(s) 

# l[1]=False 
# print(l) 
# print(list(s)) 

# #1. Verilmiş cümlədə hər bir sözü əvvəl böyük hərfə çevirin və yalnızca ilk hərfləri böyük edin. Məsələn, "PYTHON DÜNYASINA XOŞ GƏLDİNİZ" cümləsini "Python Dünyasina Xoş Gəldiniz" şəklinə çevirin.
# a='YOU ARE ONE OF MY FRİENDS'
# print(a.title())  

# # 2. İstifadəçidən bir cümlə alın və cümlədə “a”, “e” və “i” hərflərinin hər birinin neçə dəfə təkrarlanmasını tapın.
# a= input(' enter a sentence:')
# print(a.count('a'))
# print(a.count('e'))
# print(a.count('i'))

#3. Verilmiş bir mətnin ortadakı hərfini göstərin. Mətnin uzunluğu təkdirsə, ortadakı bir hərfi, cütdürsə ortadakı iki hərfi qaytarın.
a=input()
if len(a)%2==1:
 print(a[len(a)//2])
else:
 print(a[len(a)//2])
 print(a[len(a)//2-1])
 
n = input()
u = len(n)

if u % 2 == 0:
    print(n[u // 2 - 1], n[u // 2])  

else:
    print(n[u // 2]) 



#4.İstifadəçidən bir mətn daxil etməsini istəyin. Həmin mətnin ilk və son 3 simvolunu götürərək, birləşdirib yeni bir mətn yaradın və nəticəni çap edin.
n=input()
print(n[0]+n[len(n)-3]+n[len(n)-2]+n[len(n)-1])

n=input()
print(n[0]+n[1]+n[2]+n[len(n)-3]+n[len(n)-2]+n[len(n)-1]) 

#5.İstifadəçidən bir mətn daxil etməsini istəyin. Mətnin tək indeksli simvollarını (1, 3, 5, və s.) götürərək, yeni bir mətn yaradın və nəticəni çap edin.
n=input()
a=[]
for i in n:
    if int(i)%2==1:
        a.append(int(i))
print(a)


#2. Write a Python program to create a list of your five favorite fruits and print the list.
my_fruit = ['apple', 'orange', 'pear', 'pomgranate', 'banana']
print(my_fruit)

#3. How can you access the first and last items in a list? Write an example using my_list = [10, 20, 30, 40, 50].
my_list = [10, 20, 30, 40, 50]
first_time= my_list[0]
last_time= my_list[-1]
print(first_time)
print(last_time)


#4. How can you change the second item in a list? Use my_list = ["apple", "banana", "cherry"] and change "banana" to "orange".
my_list = ["apple", "banana", "cherry"] 
my_list[1] = 'orange'
print(my_list)

#5. Write a Python program that adds an element to the end of a list using append() method.
my_list = ["apple", "banana", "cherry"]
my_list.append('pear')
print(my_list)

#6. How do you remove an item from a list? Show an example of removing "banana" from fruits = ["apple", "banana", "cherry"].
fruits = ["apple", "banana", "cherry"]
fruits.remove('banana')
print(fruits)

#7. What does len() do when used with a list? Write an example.
fruits = ["apple", "banana", "cherry"]
length = len(fruits)
print(length)

#8. Write a program to create a list of numbers from 1 to 10, and then print each number using a for loop.
numbers = [1, 2, 3, 4, 5, 6, 7, 8, 9, 10]
for num in numbers:
    print(numbers)


#9. Explain the difference between append() and extend() methods in lists with examples.
my_fruit = ['apple', 'orange', 'pear', 'pomgranate', 'banana']
my_fruit.append('grape')
my_fruit.extend('banana')
print(my_fruit) 

#10. How can you check if an item exists in a list? Write a program to check if "apple" is in my_list = ["apple", "banana", "cherry"]. 
my_list = ["apple", "banana", "cherry"]
if 'apple' in my_list :
    print('apple in the list')

#1.Declare two variables, a and b, and assign them values 3 and 7. Swap their values and print the result.
a,b=3,7
b,a=a,b
print(a,b)

a=5
b=10
z=a
a=b
b=z
print(a,b) 

#2.Create variables length and width and assign them values 8 and 5. Calculate the area of the rectangle and print it.
length = 8
width = 5
area = length * width 
print("The area of the rectangle is:", area) 
print(f'The area of the rectangle is: {area}')

#3.Create a variable age and assign your age to it. Print a message with your age.
age = 26
print(f'I am {age} years old') 
print('I am {} years old.'.format(age)) 

#4.Create a variable number and assign it the value 4. Calculate and print the square of that number.
number = 4 
square = pow(number, 2)
print(square)

#5.Create two variables, first_name and last_name, and assign them your first and last names. Print a sentence introducing yourself.
first_name = 'Rashid'
last_name = 'Ahmadov'
print(f'my name is {first_name}, my surname is {last_name}')

#6.Create two variables, num1 and num2, and assign them the values 3.5 and 6.2. Print their sum.
num1 = 3.5 
num2 = 6.2 
print(num1+num2) 

#7.Create two variables, greeting and name, with values "Hello" and your name. Print the full greeting message by concatenating the two.
greeting="Hello"
name="Arthur"
a=greeting+name
print(a) 


#If-Else Statements
#1. What is an if statement in Python? Write a simple example.
x = 5
y = 10
if x != y:
    print("x and y are not equal!")
else:
    print("x and y are equal.") 

#2. Write a Python program that checks if a number is positive or negative.
x=float(input())
if x > 0:
    print('number is positive')
elif x < 0:
    print('number is negative') 

#3. How does else work with an if statement? Write a program that prints "Even" if a number is even and "Odd" if it is odd.
z= float(input())
if z != 0:
    print('number is odd')
else:
    print('number is even')

#4. What is the purpose of elif in Python? Write a program that prints "small", "medium", or "large" based on a variable size with values 1, 2, or 3.
a=float(input())
b=float(input())
c=float(input())
if a == 1:
    print('small')
elif b == 2:
    print('medium')
elif c == 3:
    print('large')  
    
#5. Write a program that takes an age as input and prints "Child" if the age is less than 18, otherwise prints "Adult."
age = float(input()) 
if age <= 18:
    print('Child')
else:
    print('Adult')
    
#6. Explain the difference between == and = in an if condition with examples.
z = int(input("Enter a number: ")) 
if z % 2 == 0:
    print("Even")
else:
    print("Odd")


#7. Write a program that checks if a list my_list is empty or not. If empty, print "The list is empty," otherwise print "The list has items."
my_list = [1, 5, 8]
if not my_list:
    print("The list is empty")
else:
    print("The list has items")
    
#8. How would you use an if statement to check if a specific number (e.g., 5) is in a list? Write an example.
list_of_numbers = [4, 5, 9]
if 5 in list_of_numbers: 
    print('yeah')
else:
    print('hell no') 
    
#9. Write a program that asks the user for a grade and prints "Pass" if the grade is 50 or higher, otherwise prints "Fail."
grade = int(input('enter the grade: ')) 
if grade > 50 :
    print('pass')
else:
    print('fail') 

#10. Write a program that checks if a number is divisible by both 2 and 3.
n=int(input())
if n%2==0 and n%3==0:
    print("bolunur")
else:
    print("bolunmur")

a=float(input())
b=float(input())
if a==b:
    print('equals')
elif a>b:
    print('a larger than')
else:
    print('d larger than') 
    
a=input()
if a[::-1]==a:
    print('numbers polindrom')
else:
    print('numbers is not') 

print(165//10%10)

a=int(input())
print(a//10%10, ' ', a%10)

a=int(input())
print(a//100%10)

a=int(input())
print(a//10%10,'  ',a%10)  

a=int(input()) 
print(a//100%10) 

a=int(input()) 
if a%3==0: 
    print('eded 3 bolunur')
else:
    print('edee 3 bolunmur') 

a=input('setri daxil edin:') 
print(a[5:]) 

n=int(input())
if n>0:
    n=list(str(n))
    s=[]
    for i in n:
        if i!= 5 and i!= 1:
           s.append(i)
    print(int(''.join(s)))
else:
    print('not natural')

age = 25
# print('I am' + str(age) + 'years old')
print(f'I am {age} years old')     

a = 25
import math
b = math.sqrt(a) 
print(b)

age = 20
print(f"I am {age} years old") 

length = 8
width = 5
area = length * width
print(area) 

print('{}\n{}\n{}\n{}\n{}'. format(a,a*2,a*3,a*4,a*5))   
a = 'alma agaci'  

print(a.rindex('a')) 

print('l'in a) 
 
print('L'in a) 

a = int(input('Enter the number: '))
if a % 2 == 0:
    print('number is couple')
else:
    print('number is alone') 
    
b = float(input('Enter the number: ')) 
if b > 0:
    print('number is positive')
else:
    if b < 0:
        print('Number is minus') 
    else:
        print('number equals 0') 
        
        
b = float(input('Enter the number: ')) 
if b > 0:
    print('number is positive') 
elif b == 0:
    print('number is equals 0')
else:
    print('number is minus') 
